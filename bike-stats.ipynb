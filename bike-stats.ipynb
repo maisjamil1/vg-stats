{
 "cells": [
  {
   "cell_type": "markdown",
   "metadata": {},
   "source": [
    "# bike station "
   ]
  },
  {
   "cell_type": "code",
   "execution_count": 1,
   "metadata": {
    "tags": []
   },
   "outputs": [],
   "source": [
    "import pandas as pd\n",
    "import numpy as np\n",
    "import matplotlib.pyplot as plt\n",
    "%matplotlib inline\n"
   ]
  },
  {
   "cell_type": "code",
   "execution_count": 2,
   "metadata": {
    "tags": []
   },
   "outputs": [
    {
     "name": "stderr",
     "output_type": "stream",
     "text": [
      "b'Skipping line 50794: expected 12 fields, saw 20\\n'\n"
     ]
    },
    {
     "name": "stdout",
     "output_type": "stream",
     "text": [
      "<class 'pandas.core.frame.DataFrame'>\n",
      "RangeIndex: 286857 entries, 0 to 286856\n",
      "Data columns (total 12 columns):\n",
      " #   Column             Non-Null Count   Dtype  \n",
      "---  ------             --------------   -----  \n",
      " 0   trip_id            286857 non-null  int64  \n",
      " 1   starttime          286857 non-null  object \n",
      " 2   stoptime           286857 non-null  object \n",
      " 3   bikeid             286857 non-null  object \n",
      " 4   tripduration       286857 non-null  float64\n",
      " 5   from_station_name  286857 non-null  object \n",
      " 6   to_station_name    286857 non-null  object \n",
      " 7   from_station_id    286857 non-null  object \n",
      " 8   to_station_id      286857 non-null  object \n",
      " 9   usertype           286857 non-null  object \n",
      " 10  gender             181557 non-null  object \n",
      " 11  birthyear          181553 non-null  float64\n",
      "dtypes: float64(2), int64(1), object(9)\n",
      "memory usage: 26.3+ MB\n"
     ]
    }
   ],
   "source": [
    "weather_file = pd.read_csv('weather.csv')\n",
    "# weather_file.info()\n",
    "station_file = pd.read_csv('station.csv')\n",
    "# station_file.info()\n",
    "# trip_file = pd.read_csv('trip.csv')\n",
    "# trip_file.info()#ParserError: Error tokenizing data. C error: Expected 12 fields\n",
    "trip_file = pd.read_csv('trip.csv',error_bad_lines=False)\n",
    "trip_file.info()"
   ]
  },
  {
   "cell_type": "markdown",
   "metadata": {},
   "source": [
    "## What is the average trip duration for a borrowed bicycle?"
   ]
  },
  {
   "cell_type": "code",
   "execution_count": 3,
   "metadata": {},
   "outputs": [
    {
     "data": {
      "text/plain": [
       "1178"
      ]
     },
     "execution_count": 3,
     "metadata": {},
     "output_type": "execute_result"
    }
   ],
   "source": [
    "trip_file.head(10)\n",
    "ave_tripduration=round(trip_file['tripduration'].mean())\n",
    "ave_tripduration"
   ]
  },
  {
   "cell_type": "markdown",
   "metadata": {},
   "source": [
    "## What’s the most common age of a bicycle-sharer?"
   ]
  },
  {
   "cell_type": "code",
   "execution_count": 4,
   "metadata": {},
   "outputs": [
    {
     "data": {
      "text/plain": [
       "33"
      ]
     },
     "execution_count": 4,
     "metadata": {},
     "output_type": "execute_result"
    }
   ],
   "source": [
    "common_birthyear=trip_file['birthyear'].mode()[0]\n",
    "common_age=round(2020-common_birthyear)\n",
    "common_age #33"
   ]
  },
  {
   "cell_type": "markdown",
   "metadata": {},
   "source": [
    "## Given all the weather data here, find the average precipitation per month, and the median precipitation."
   ]
  },
  {
   "cell_type": "code",
   "execution_count": 5,
   "metadata": {},
   "outputs": [],
   "source": [
    "\n",
    "# weather_file.head(100)\n",
    "\n",
    "# month_10_p1=weather_file[:19]\n",
    "# month_11=weather_file[20:49]\n",
    "# month_12=weather_file[50:80]\n",
    "# month_1=weather_file[81:111]\n",
    "# month_2=weather_file[112:139]\n",
    "# month_3=weather_file[140:170]\n",
    "# month_4=weather_file[171:200]\n",
    "# month_5=weather_file[200:231]\n",
    "# month_6=weather_file[231:261]\n",
    "# month_7=weather_file[261:292]\n",
    "# month_8=weather_file[292:323]\n",
    "# month_9=weather_file[323:353]\n",
    "# month_10_p2=weather_file[353:365]\n",
    "# month_10 = pd.concat([month_10_p2,month_10_p1])#concation p1+p2\n",
    "# # month_10['Precipitation_In'].mean()\n",
    "\n",
    "# data_table = {\n",
    "#         'month': ['1', '2', '3', '4', '5','6','7', '8', '9', '10', '11','12'],\n",
    "#         'average precipitation': [month_1['Precipitation_In'].mean(),month_2['Precipitation_In'].mean(),month_3['Precipitation_In'].mean(),month_4['Precipitation_In'].mean(),month_5['Precipitation_In'].mean(),month_6['Precipitation_In'].mean(),month_7['Precipitation_In'].mean(),month_8['Precipitation_In'].mean(),month_9['Precipitation_In'].mean(),month_10['Precipitation_In'].mean(),month_11['Precipitation_In'].mean(),month_12['Precipitation_In'].mean()]}\n",
    "\n",
    "\n",
    "# render_table = pd.DataFrame(data_table, columns = ['month', 'average precipitation'])\n",
    "\n",
    "# render_table\n",
    "\n",
    "\n"
   ]
  },
  {
   "cell_type": "code",
   "execution_count": 6,
   "metadata": {},
   "outputs": [
    {
     "data": {
      "text/html": [
       "<div>\n",
       "<style scoped>\n",
       "    .dataframe tbody tr th:only-of-type {\n",
       "        vertical-align: middle;\n",
       "    }\n",
       "\n",
       "    .dataframe tbody tr th {\n",
       "        vertical-align: top;\n",
       "    }\n",
       "\n",
       "    .dataframe thead th {\n",
       "        text-align: right;\n",
       "    }\n",
       "</style>\n",
       "<table border=\"1\" class=\"dataframe\">\n",
       "  <thead>\n",
       "    <tr style=\"text-align: right;\">\n",
       "      <th></th>\n",
       "      <th>Date</th>\n",
       "      <th>Max_Temperature_F</th>\n",
       "      <th>Mean_Temperature_F</th>\n",
       "      <th>Min_TemperatureF</th>\n",
       "      <th>Max_Dew_Point_F</th>\n",
       "      <th>MeanDew_Point_F</th>\n",
       "      <th>Min_Dewpoint_F</th>\n",
       "      <th>Max_Humidity</th>\n",
       "      <th>Mean_Humidity</th>\n",
       "      <th>Min_Humidity</th>\n",
       "      <th>...</th>\n",
       "      <th>Min_Sea_Level_Pressure_In</th>\n",
       "      <th>Max_Visibility_Miles</th>\n",
       "      <th>Mean_Visibility_Miles</th>\n",
       "      <th>Min_Visibility_Miles</th>\n",
       "      <th>Max_Wind_Speed_MPH</th>\n",
       "      <th>Mean_Wind_Speed_MPH</th>\n",
       "      <th>Max_Gust_Speed_MPH</th>\n",
       "      <th>Precipitation_In</th>\n",
       "      <th>Events</th>\n",
       "      <th>Month</th>\n",
       "    </tr>\n",
       "  </thead>\n",
       "  <tbody>\n",
       "    <tr>\n",
       "      <th>0</th>\n",
       "      <td>10/13/2014</td>\n",
       "      <td>71</td>\n",
       "      <td>62.0</td>\n",
       "      <td>54</td>\n",
       "      <td>55</td>\n",
       "      <td>51</td>\n",
       "      <td>46</td>\n",
       "      <td>87</td>\n",
       "      <td>68</td>\n",
       "      <td>46</td>\n",
       "      <td>...</td>\n",
       "      <td>29.65</td>\n",
       "      <td>10</td>\n",
       "      <td>10</td>\n",
       "      <td>4</td>\n",
       "      <td>13</td>\n",
       "      <td>4</td>\n",
       "      <td>21</td>\n",
       "      <td>0.00</td>\n",
       "      <td>Rain</td>\n",
       "      <td>10</td>\n",
       "    </tr>\n",
       "    <tr>\n",
       "      <th>1</th>\n",
       "      <td>10/14/2014</td>\n",
       "      <td>63</td>\n",
       "      <td>59.0</td>\n",
       "      <td>55</td>\n",
       "      <td>52</td>\n",
       "      <td>51</td>\n",
       "      <td>50</td>\n",
       "      <td>88</td>\n",
       "      <td>78</td>\n",
       "      <td>63</td>\n",
       "      <td>...</td>\n",
       "      <td>29.54</td>\n",
       "      <td>10</td>\n",
       "      <td>9</td>\n",
       "      <td>3</td>\n",
       "      <td>10</td>\n",
       "      <td>5</td>\n",
       "      <td>17</td>\n",
       "      <td>0.11</td>\n",
       "      <td>Rain</td>\n",
       "      <td>10</td>\n",
       "    </tr>\n",
       "    <tr>\n",
       "      <th>2</th>\n",
       "      <td>10/15/2014</td>\n",
       "      <td>62</td>\n",
       "      <td>58.0</td>\n",
       "      <td>54</td>\n",
       "      <td>53</td>\n",
       "      <td>50</td>\n",
       "      <td>46</td>\n",
       "      <td>87</td>\n",
       "      <td>77</td>\n",
       "      <td>67</td>\n",
       "      <td>...</td>\n",
       "      <td>29.51</td>\n",
       "      <td>10</td>\n",
       "      <td>9</td>\n",
       "      <td>3</td>\n",
       "      <td>18</td>\n",
       "      <td>7</td>\n",
       "      <td>25</td>\n",
       "      <td>0.45</td>\n",
       "      <td>Rain</td>\n",
       "      <td>10</td>\n",
       "    </tr>\n",
       "    <tr>\n",
       "      <th>3</th>\n",
       "      <td>10/16/2014</td>\n",
       "      <td>71</td>\n",
       "      <td>61.0</td>\n",
       "      <td>52</td>\n",
       "      <td>49</td>\n",
       "      <td>46</td>\n",
       "      <td>42</td>\n",
       "      <td>83</td>\n",
       "      <td>61</td>\n",
       "      <td>36</td>\n",
       "      <td>...</td>\n",
       "      <td>29.81</td>\n",
       "      <td>10</td>\n",
       "      <td>10</td>\n",
       "      <td>10</td>\n",
       "      <td>9</td>\n",
       "      <td>4</td>\n",
       "      <td>-</td>\n",
       "      <td>0.00</td>\n",
       "      <td>Rain</td>\n",
       "      <td>10</td>\n",
       "    </tr>\n",
       "    <tr>\n",
       "      <th>4</th>\n",
       "      <td>10/17/2014</td>\n",
       "      <td>64</td>\n",
       "      <td>60.0</td>\n",
       "      <td>57</td>\n",
       "      <td>55</td>\n",
       "      <td>51</td>\n",
       "      <td>41</td>\n",
       "      <td>87</td>\n",
       "      <td>72</td>\n",
       "      <td>46</td>\n",
       "      <td>...</td>\n",
       "      <td>29.73</td>\n",
       "      <td>10</td>\n",
       "      <td>10</td>\n",
       "      <td>6</td>\n",
       "      <td>8</td>\n",
       "      <td>3</td>\n",
       "      <td>-</td>\n",
       "      <td>0.14</td>\n",
       "      <td>Rain</td>\n",
       "      <td>10</td>\n",
       "    </tr>\n",
       "    <tr>\n",
       "      <th>...</th>\n",
       "      <td>...</td>\n",
       "      <td>...</td>\n",
       "      <td>...</td>\n",
       "      <td>...</td>\n",
       "      <td>...</td>\n",
       "      <td>...</td>\n",
       "      <td>...</td>\n",
       "      <td>...</td>\n",
       "      <td>...</td>\n",
       "      <td>...</td>\n",
       "      <td>...</td>\n",
       "      <td>...</td>\n",
       "      <td>...</td>\n",
       "      <td>...</td>\n",
       "      <td>...</td>\n",
       "      <td>...</td>\n",
       "      <td>...</td>\n",
       "      <td>...</td>\n",
       "      <td>...</td>\n",
       "      <td>...</td>\n",
       "      <td>...</td>\n",
       "    </tr>\n",
       "    <tr>\n",
       "      <th>95</th>\n",
       "      <td>1/16/2015</td>\n",
       "      <td>55</td>\n",
       "      <td>50.0</td>\n",
       "      <td>44</td>\n",
       "      <td>45</td>\n",
       "      <td>40</td>\n",
       "      <td>36</td>\n",
       "      <td>87</td>\n",
       "      <td>71</td>\n",
       "      <td>57</td>\n",
       "      <td>...</td>\n",
       "      <td>29.82</td>\n",
       "      <td>10</td>\n",
       "      <td>10</td>\n",
       "      <td>10</td>\n",
       "      <td>13</td>\n",
       "      <td>8</td>\n",
       "      <td>22</td>\n",
       "      <td>0.00</td>\n",
       "      <td>NaN</td>\n",
       "      <td>1</td>\n",
       "    </tr>\n",
       "    <tr>\n",
       "      <th>96</th>\n",
       "      <td>1/17/2015</td>\n",
       "      <td>55</td>\n",
       "      <td>46.0</td>\n",
       "      <td>39</td>\n",
       "      <td>52</td>\n",
       "      <td>41</td>\n",
       "      <td>35</td>\n",
       "      <td>90</td>\n",
       "      <td>84</td>\n",
       "      <td>73</td>\n",
       "      <td>...</td>\n",
       "      <td>29.60</td>\n",
       "      <td>10</td>\n",
       "      <td>6</td>\n",
       "      <td>3</td>\n",
       "      <td>17</td>\n",
       "      <td>1</td>\n",
       "      <td>23</td>\n",
       "      <td>0.76</td>\n",
       "      <td>Rain</td>\n",
       "      <td>1</td>\n",
       "    </tr>\n",
       "    <tr>\n",
       "      <th>97</th>\n",
       "      <td>1/18/2015</td>\n",
       "      <td>60</td>\n",
       "      <td>54.0</td>\n",
       "      <td>48</td>\n",
       "      <td>51</td>\n",
       "      <td>44</td>\n",
       "      <td>42</td>\n",
       "      <td>82</td>\n",
       "      <td>73</td>\n",
       "      <td>67</td>\n",
       "      <td>...</td>\n",
       "      <td>29.64</td>\n",
       "      <td>10</td>\n",
       "      <td>9</td>\n",
       "      <td>3</td>\n",
       "      <td>22</td>\n",
       "      <td>14</td>\n",
       "      <td>36</td>\n",
       "      <td>0.23</td>\n",
       "      <td>Rain</td>\n",
       "      <td>1</td>\n",
       "    </tr>\n",
       "    <tr>\n",
       "      <th>98</th>\n",
       "      <td>1/19/2015</td>\n",
       "      <td>52</td>\n",
       "      <td>49.0</td>\n",
       "      <td>46</td>\n",
       "      <td>43</td>\n",
       "      <td>42</td>\n",
       "      <td>40</td>\n",
       "      <td>83</td>\n",
       "      <td>76</td>\n",
       "      <td>66</td>\n",
       "      <td>...</td>\n",
       "      <td>30.27</td>\n",
       "      <td>10</td>\n",
       "      <td>10</td>\n",
       "      <td>7</td>\n",
       "      <td>10</td>\n",
       "      <td>5</td>\n",
       "      <td>-</td>\n",
       "      <td>0.03</td>\n",
       "      <td>Rain</td>\n",
       "      <td>1</td>\n",
       "    </tr>\n",
       "    <tr>\n",
       "      <th>99</th>\n",
       "      <td>1/20/2015</td>\n",
       "      <td>51</td>\n",
       "      <td>46.0</td>\n",
       "      <td>39</td>\n",
       "      <td>39</td>\n",
       "      <td>38</td>\n",
       "      <td>34</td>\n",
       "      <td>87</td>\n",
       "      <td>76</td>\n",
       "      <td>59</td>\n",
       "      <td>...</td>\n",
       "      <td>30.35</td>\n",
       "      <td>10</td>\n",
       "      <td>10</td>\n",
       "      <td>9</td>\n",
       "      <td>9</td>\n",
       "      <td>1</td>\n",
       "      <td>-</td>\n",
       "      <td>0.00</td>\n",
       "      <td>NaN</td>\n",
       "      <td>1</td>\n",
       "    </tr>\n",
       "  </tbody>\n",
       "</table>\n",
       "<p>100 rows × 22 columns</p>\n",
       "</div>"
      ],
      "text/plain": [
       "          Date  Max_Temperature_F  Mean_Temperature_F  Min_TemperatureF  \\\n",
       "0   10/13/2014                 71                62.0                54   \n",
       "1   10/14/2014                 63                59.0                55   \n",
       "2   10/15/2014                 62                58.0                54   \n",
       "3   10/16/2014                 71                61.0                52   \n",
       "4   10/17/2014                 64                60.0                57   \n",
       "..         ...                ...                 ...               ...   \n",
       "95   1/16/2015                 55                50.0                44   \n",
       "96   1/17/2015                 55                46.0                39   \n",
       "97   1/18/2015                 60                54.0                48   \n",
       "98   1/19/2015                 52                49.0                46   \n",
       "99   1/20/2015                 51                46.0                39   \n",
       "\n",
       "    Max_Dew_Point_F  MeanDew_Point_F  Min_Dewpoint_F  Max_Humidity  \\\n",
       "0                55               51              46            87   \n",
       "1                52               51              50            88   \n",
       "2                53               50              46            87   \n",
       "3                49               46              42            83   \n",
       "4                55               51              41            87   \n",
       "..              ...              ...             ...           ...   \n",
       "95               45               40              36            87   \n",
       "96               52               41              35            90   \n",
       "97               51               44              42            82   \n",
       "98               43               42              40            83   \n",
       "99               39               38              34            87   \n",
       "\n",
       "    Mean_Humidity  Min_Humidity  ...  Min_Sea_Level_Pressure_In  \\\n",
       "0              68            46  ...                      29.65   \n",
       "1              78            63  ...                      29.54   \n",
       "2              77            67  ...                      29.51   \n",
       "3              61            36  ...                      29.81   \n",
       "4              72            46  ...                      29.73   \n",
       "..            ...           ...  ...                        ...   \n",
       "95             71            57  ...                      29.82   \n",
       "96             84            73  ...                      29.60   \n",
       "97             73            67  ...                      29.64   \n",
       "98             76            66  ...                      30.27   \n",
       "99             76            59  ...                      30.35   \n",
       "\n",
       "    Max_Visibility_Miles  Mean_Visibility_Miles  Min_Visibility_Miles  \\\n",
       "0                     10                     10                     4   \n",
       "1                     10                      9                     3   \n",
       "2                     10                      9                     3   \n",
       "3                     10                     10                    10   \n",
       "4                     10                     10                     6   \n",
       "..                   ...                    ...                   ...   \n",
       "95                    10                     10                    10   \n",
       "96                    10                      6                     3   \n",
       "97                    10                      9                     3   \n",
       "98                    10                     10                     7   \n",
       "99                    10                     10                     9   \n",
       "\n",
       "    Max_Wind_Speed_MPH  Mean_Wind_Speed_MPH  Max_Gust_Speed_MPH  \\\n",
       "0                   13                    4                  21   \n",
       "1                   10                    5                  17   \n",
       "2                   18                    7                  25   \n",
       "3                    9                    4                   -   \n",
       "4                    8                    3                   -   \n",
       "..                 ...                  ...                 ...   \n",
       "95                  13                    8                  22   \n",
       "96                  17                    1                  23   \n",
       "97                  22                   14                  36   \n",
       "98                  10                    5                   -   \n",
       "99                   9                    1                   -   \n",
       "\n",
       "    Precipitation_In Events  Month  \n",
       "0               0.00   Rain     10  \n",
       "1               0.11   Rain     10  \n",
       "2               0.45   Rain     10  \n",
       "3               0.00   Rain     10  \n",
       "4               0.14   Rain     10  \n",
       "..               ...    ...    ...  \n",
       "95              0.00    NaN      1  \n",
       "96              0.76   Rain      1  \n",
       "97              0.23   Rain      1  \n",
       "98              0.03   Rain      1  \n",
       "99              0.00    NaN      1  \n",
       "\n",
       "[100 rows x 22 columns]"
      ]
     },
     "execution_count": 6,
     "metadata": {},
     "output_type": "execute_result"
    }
   ],
   "source": [
    "weather_file.head(100)\n",
    "def get_month(date_str):\n",
    "    return int(date_str.split('/')[0])\n",
    "weather_file['Month']=weather_file['Date'].apply(get_month)\n",
    "weather_file.head(100)\n"
   ]
  },
  {
   "cell_type": "code",
   "execution_count": 7,
   "metadata": {},
   "outputs": [
    {
     "data": {
      "text/plain": [
       "Month\n",
       "1     0.143548\n",
       "2     0.168421\n",
       "3     0.156935\n",
       "4     0.051333\n",
       "5     0.012419\n",
       "6     0.030500\n",
       "7     0.012097\n",
       "8     0.018226\n",
       "9     0.041000\n",
       "10    0.189000\n",
       "11    0.187833\n",
       "12    0.236290\n",
       "Name: Precipitation_In, dtype: float64"
      ]
     },
     "execution_count": 7,
     "metadata": {},
     "output_type": "execute_result"
    }
   ],
   "source": [
    "Precipitation=weather_file.groupby('Month')['Precipitation_In']\n",
    "Precipitation.mean()"
   ]
  },
  {
   "cell_type": "markdown",
   "metadata": {},
   "source": [
    "## the median precipitation."
   ]
  },
  {
   "cell_type": "code",
   "execution_count": 8,
   "metadata": {},
   "outputs": [
    {
     "data": {
      "text/plain": [
       "Month\n",
       "1     0.020\n",
       "2     0.040\n",
       "3     0.025\n",
       "4     0.000\n",
       "5     0.000\n",
       "6     0.000\n",
       "7     0.000\n",
       "8     0.000\n",
       "9     0.000\n",
       "10    0.040\n",
       "11    0.035\n",
       "12    0.100\n",
       "Name: Precipitation_In, dtype: float64"
      ]
     },
     "execution_count": 8,
     "metadata": {},
     "output_type": "execute_result"
    }
   ],
   "source": [
    "Precipitation.median()"
   ]
  },
  {
   "cell_type": "code",
   "execution_count": 9,
   "metadata": {},
   "outputs": [],
   "source": [
    "\n",
    "# #I am not sure what median he wants, so pick one of them :p\n",
    "# median1=weather_file['Precipitation_In'].median()\n",
    "# median1\n",
    "# # _______________________________\n",
    "# average_precipitation_li=data_table['average precipitation']\n",
    "# import statistics #to find the median to a list\n",
    "# median2=statistics.median(average_precipitation_li)\n",
    "# median2\n"
   ]
  },
  {
   "cell_type": "markdown",
   "metadata": {},
   "source": [
    "## What’s the average number of bikes at a given bike station?\n"
   ]
  },
  {
   "cell_type": "code",
   "execution_count": 10,
   "metadata": {},
   "outputs": [],
   "source": [
    "station_file.head(10)\n",
    "BT=station_file[:4]\n",
    "CBD=station_file[4:10]\n",
    "CD=station_file[10:11]\n",
    "CH1=station_file[11:21]####\n",
    "DPD=station_file[21:23]\n",
    "EL=station_file[23:26]\n",
    "FH=station_file[26:28]\n",
    "ID=station_file[28:29]\n",
    "PS=station_file[29:31]\n",
    "SLU1=station_file[31:42]####\n",
    "UD=station_file[42:46]\n",
    "UW1=station_file[46:52]####\n",
    "WF1=station_file[52:54]####\n",
    "CH2=station_file[54:55]####\n",
    "SLU2=station_file[55:56]###\n",
    "UW2=station_file[56:57]####\n",
    "WF2=station_file[57:58]####\n",
    "\n",
    "CH=pd.concat([CH2,CH1])#concation\n",
    "UW=pd.concat([UW2,UW1])#concation\n",
    "WF=pd.concat([WF2,WF1])#concation\n",
    "SLU=pd.concat([SLU2,SLU1])#concation\n",
    "\n",
    "station_table = {\n",
    "        'statio_name': ['BT', 'CBD', 'CD', 'CH', 'DPD','EL','FH', 'ID', 'PS', 'SLU', 'UD','UW','WF'],\n",
    "        'bikes_average_number': [BT['current_dockcount'].mean(),CBD['current_dockcount'].mean(),CD['current_dockcount'].mean(),CH['current_dockcount'].mean(),DPD['current_dockcount'].mean(),EL['current_dockcount'].mean(),FH['current_dockcount'].mean(),ID['current_dockcount'].mean(),PS['current_dockcount'].mean(),SLU['current_dockcount'].mean(),UD['current_dockcount'].mean(),UW['current_dockcount'].mean(),WF['current_dockcount'].mean()]}\n",
    "\n",
    "\n",
    "render_station_table = pd.DataFrame(station_table, columns = ['statio_name', 'bikes_average_number'])\n",
    "\n",
    "render_station_table\n",
    "\n",
    "\n",
    "\n",
    "\n",
    "\n",
    "\n"
   ]
  },
  {
   "cell_type": "code",
   "execution_count": 26,
   "metadata": {},
   "outputs": [
    {
     "data": {
      "text/plain": [
       "17.74074074074074"
      ]
     },
     "execution_count": 26,
     "metadata": {},
     "output_type": "execute_result"
    }
   ],
   "source": [
    "station_file\n",
    "dock_count=station_file[station_file['decommission_date'].notnull()]\n",
    "# print(dock_count.mean())\n",
    "all=station_file[station_file['decommission_date'].isnull()]\n",
    "z=all.mean()\n",
    "\n",
    "#the average number of bikes at a given bike station\n",
    "verage_number=z.current_dockcount\n",
    "verage_number"
   ]
  },
  {
   "cell_type": "markdown",
   "metadata": {},
   "source": [
    "## When a bike station is modified, is it more likely that it’ll lose bikes or gain bikes? How do you know?"
   ]
  },
  {
   "cell_type": "code",
   "execution_count": 12,
   "metadata": {},
   "outputs": [],
   "source": [
    "# station_file.head(10)\n",
    "# # BT.describe()\n",
    "# # BT.describe()['current_dockcount']['mean']-BT.describe()['install_dockcount']['mean']\n",
    "# BT_modified=round(BT['current_dockcount'].mean())-round(BT['install_dockcount'].mean())\n",
    "# CBD_modified=round(CBD['current_dockcount'].mean())-round(CBD['install_dockcount'].mean())\n",
    "# CD_modified=round(CD['current_dockcount'].mean())-round(CD['install_dockcount'].mean())\n",
    "# CH_modified=round(CH['current_dockcount'].mean())-round(CH['install_dockcount'].mean())\n",
    "# DPD_modified=round(DPD['current_dockcount'].mean())-round(DPD['install_dockcount'].mean())\n",
    "# EL_modified=round(EL['current_dockcount'].mean())-round(EL['install_dockcount'].mean())\n",
    "# FH_modified=round(FH['current_dockcount'].mean())-round(FH['install_dockcount'].mean())\n",
    "# ID_modified=round(ID['current_dockcount'].mean())-round(ID['install_dockcount'].mean())\n",
    "# PS_modified=round(PS['current_dockcount'].mean())-round(PS['install_dockcount'].mean())\n",
    "# SLU_modified=round(SLU['current_dockcount'].mean())-round(SLU['install_dockcount'].mean())\n",
    "# UD_modified=round(UD['current_dockcount'].mean())-round(UD['install_dockcount'].mean())\n",
    "# UW_modified=round(UW['current_dockcount'].mean())-round(UW['install_dockcount'].mean())\n",
    "# WF_modified=round(WF['current_dockcount'].mean())-round(WF['install_dockcount'].mean())\n"
   ]
  },
  {
   "cell_type": "code",
   "execution_count": 13,
   "metadata": {},
   "outputs": [
    {
     "data": {
      "text/plain": [
       "-64"
      ]
     },
     "execution_count": 13,
     "metadata": {},
     "output_type": "execute_result"
    }
   ],
   "source": [
    "# dropna\n",
    "# count\n",
    "# sum\n",
    "station=station_file[['modification_date','install_dockcount','current_dockcount']].dropna()\n",
    "station['current_dockcount'].sum()-station['install_dockcount'].sum()"
   ]
  },
  {
   "cell_type": "code",
   "execution_count": 14,
   "metadata": {},
   "outputs": [],
   "source": [
    "# li_modified_station=[BT_modified,CBD_modified,CD_modified,CH_modified,DPD_modified,EL_modified,FH_modified,ID_modified,PS_modified,SLU_modified,UD_modified,UW_modified,WF_modified]\n",
    "\n",
    "# lose_or_gain=[]\n",
    "# for i in li_modified_station:\n",
    "#     if i > 0 :\n",
    "#         lose_or_gain.append('gain')\n",
    "#     elif i < 0 :\n",
    "#         lose_or_gain.append('lose')\n",
    "#     else:\n",
    "#         lose_or_gain.append('same')\n",
    "\n",
    "# # lose_or_gain\n",
    "\n",
    "\n",
    "\n",
    "# lose_gain_table = {\n",
    "#         'statio_name': ['BT', 'CBD', 'CD', 'CH', 'DPD','EL','FH', 'ID', 'PS', 'SLU', 'UD','UW','WF'],\n",
    "#         'current-past':li_modified_station,\n",
    "#         'status':lose_or_gain}\n",
    "\n",
    "\n",
    "# render_after_modified_table = pd.DataFrame(lose_gain_table, columns = ['statio_name', 'current-past','status'])\n",
    "\n",
    "# render_after_modified_table"
   ]
  },
  {
   "cell_type": "markdown",
   "metadata": {},
   "source": [
    "### what is the number for all the current bikes for all station ?"
   ]
  },
  {
   "cell_type": "code",
   "execution_count": 15,
   "metadata": {},
   "outputs": [
    {
     "data": {
      "text/plain": [
       "958"
      ]
     },
     "execution_count": 15,
     "metadata": {},
     "output_type": "execute_result"
    }
   ],
   "source": [
    "station_file['current_dockcount'].sum()"
   ]
  },
  {
   "cell_type": "markdown",
   "metadata": {},
   "source": [
    "### what is the station which has the greates bikes average ?"
   ]
  },
  {
   "cell_type": "code",
   "execution_count": 16,
   "metadata": {},
   "outputs": [
    {
     "ename": "NameError",
     "evalue": "name 'render_station_table' is not defined",
     "output_type": "error",
     "traceback": [
      "\u001b[0;31m---------------------------------------------------------------------------\u001b[0m",
      "\u001b[0;31mNameError\u001b[0m                                 Traceback (most recent call last)",
      "\u001b[0;32m<ipython-input-16-ec5839aa17f5>\u001b[0m in \u001b[0;36m<module>\u001b[0;34m\u001b[0m\n\u001b[0;32m----> 1\u001b[0;31m \u001b[0mtop\u001b[0m\u001b[0;34m=\u001b[0m\u001b[0mrender_station_table\u001b[0m\u001b[0;34m[\u001b[0m\u001b[0;34m[\u001b[0m\u001b[0;34m'statio_name'\u001b[0m\u001b[0;34m,\u001b[0m\u001b[0;34m'bikes_average_number'\u001b[0m\u001b[0;34m]\u001b[0m\u001b[0;34m]\u001b[0m\u001b[0;34m.\u001b[0m\u001b[0msort_values\u001b[0m\u001b[0;34m(\u001b[0m\u001b[0;34m'bikes_average_number'\u001b[0m\u001b[0;34m,\u001b[0m \u001b[0mascending\u001b[0m\u001b[0;34m=\u001b[0m\u001b[0;32mFalse\u001b[0m\u001b[0;34m)\u001b[0m\u001b[0;34m.\u001b[0m\u001b[0mhead\u001b[0m\u001b[0;34m(\u001b[0m\u001b[0;36m1\u001b[0m\u001b[0;34m)\u001b[0m\u001b[0;34m\u001b[0m\u001b[0;34m\u001b[0m\u001b[0m\n\u001b[0m\u001b[1;32m      2\u001b[0m \u001b[0mtop\u001b[0m\u001b[0;34m\u001b[0m\u001b[0;34m\u001b[0m\u001b[0m\n",
      "\u001b[0;31mNameError\u001b[0m: name 'render_station_table' is not defined"
     ]
    }
   ],
   "source": [
    "top=render_station_table[['statio_name','bikes_average_number']].sort_values('bikes_average_number', ascending=False).head(1)\n",
    "top"
   ]
  },
  {
   "cell_type": "markdown",
   "metadata": {},
   "source": [
    "### what is the station which has the lowest bikes average ?"
   ]
  },
  {
   "cell_type": "code",
   "execution_count": null,
   "metadata": {},
   "outputs": [],
   "source": [
    "q=render_station_table[['statio_name','bikes_average_number']].sort_values('bikes_average_number', ascending=True).head(1)\n",
    "q"
   ]
  },
  {
   "cell_type": "code",
   "execution_count": null,
   "metadata": {},
   "outputs": [],
   "source": []
  }
 ],
 "metadata": {
  "kernelspec": {
   "display_name": "Python 3",
   "language": "python",
   "name": "python3"
  },
  "language_info": {
   "codemirror_mode": {
    "name": "ipython",
    "version": 3
   },
   "file_extension": ".py",
   "mimetype": "text/x-python",
   "name": "python",
   "nbconvert_exporter": "python",
   "pygments_lexer": "ipython3",
   "version": "3.8.5"
  }
 },
 "nbformat": 4,
 "nbformat_minor": 4
}