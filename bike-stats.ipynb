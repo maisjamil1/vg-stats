{
 "metadata": {
  "language_info": {
   "codemirror_mode": {
    "name": "ipython",
    "version": 3
   },
   "file_extension": ".py",
   "mimetype": "text/x-python",
   "name": "python",
   "nbconvert_exporter": "python",
   "pygments_lexer": "ipython3",
   "version": "3.8.5-final"
  },
  "orig_nbformat": 2,
  "kernelspec": {
   "name": "python_defaultSpec_1598947060371",
   "display_name": "Python 3.8.5 64-bit ('.venv': venv)"
  }
 },
 "nbformat": 4,
 "nbformat_minor": 2,
 "cells": [
  {
   "cell_type": "markdown",
   "metadata": {},
   "source": [
    "# bike station "
   ]
  },
  {
   "cell_type": "code",
   "execution_count": 1,
   "metadata": {
    "tags": []
   },
   "outputs": [],
   "source": [
    "import pandas as pd\n",
    "import numpy as np\n",
    "import matplotlib.pyplot as plt\n",
    "%matplotlib inline\n"
   ]
  },
  {
   "cell_type": "code",
   "execution_count": 225,
   "metadata": {
    "tags": []
   },
   "outputs": [
    {
     "output_type": "stream",
     "name": "stderr",
     "text": "b'Skipping line 50794: expected 12 fields, saw 20\\n'\n<class 'pandas.core.frame.DataFrame'>\nRangeIndex: 286857 entries, 0 to 286856\nData columns (total 12 columns):\n #   Column             Non-Null Count   Dtype  \n---  ------             --------------   -----  \n 0   trip_id            286857 non-null  int64  \n 1   starttime          286857 non-null  object \n 2   stoptime           286857 non-null  object \n 3   bikeid             286857 non-null  object \n 4   tripduration       286857 non-null  float64\n 5   from_station_name  286857 non-null  object \n 6   to_station_name    286857 non-null  object \n 7   from_station_id    286857 non-null  object \n 8   to_station_id      286857 non-null  object \n 9   usertype           286857 non-null  object \n 10  gender             181557 non-null  object \n 11  birthyear          181553 non-null  float64\ndtypes: float64(2), int64(1), object(9)\nmemory usage: 26.3+ MB\n"
    }
   ],
   "source": [
    "weather_file = pd.read_csv('weather.csv')\n",
    "# weather_file.info()\n",
    "station_file = pd.read_csv('station.csv')\n",
    "# station_file.info()\n",
    "# trip_file = pd.read_csv('trip.csv')\n",
    "# trip_file.info()#ParserError: Error tokenizing data. C error: Expected 12 fields\n",
    "trip_file = pd.read_csv('trip.csv',error_bad_lines=False)\n",
    "trip_file.info()"
   ]
  },
  {
   "cell_type": "markdown",
   "metadata": {},
   "source": [
    "## What is the average trip duration for a borrowed bicycle?"
   ]
  },
  {
   "cell_type": "code",
   "execution_count": 226,
   "metadata": {},
   "outputs": [
    {
     "output_type": "execute_result",
     "data": {
      "text/plain": "1178"
     },
     "metadata": {},
     "execution_count": 226
    }
   ],
   "source": [
    "trip_file.head(10)\n",
    "ave_tripduration=round(trip_file['tripduration'].mean())\n",
    "ave_tripduration"
   ]
  },
  {
   "cell_type": "markdown",
   "metadata": {},
   "source": [
    "## What’s the most common age of a bicycle-sharer?"
   ]
  },
  {
   "cell_type": "code",
   "execution_count": 227,
   "metadata": {},
   "outputs": [
    {
     "output_type": "execute_result",
     "data": {
      "text/plain": "33"
     },
     "metadata": {},
     "execution_count": 227
    }
   ],
   "source": [
    "common_birthyear=trip_file['birthyear'].mode()[0]\n",
    "common_age=round(2020-common_birthyear)\n",
    "common_age #33"
   ]
  },
  {
   "cell_type": "markdown",
   "metadata": {},
   "source": [
    "## Given all the weather data here, find the average precipitation per month, and the median precipitation."
   ]
  },
  {
   "cell_type": "code",
   "execution_count": 228,
   "metadata": {},
   "outputs": [
    {
     "output_type": "execute_result",
     "data": {
      "text/plain": "   month  average precipitation\n0      1               0.073000\n1      2               0.167778\n2      3               0.139667\n3      4               0.056897\n4      5               0.014194\n5      6               0.005667\n6      7               0.008710\n7      8               0.035484\n8      9               0.041000\n9     10               0.233226\n10    11               0.146552\n11    12               0.150000",
      "text/html": "<div>\n<style scoped>\n    .dataframe tbody tr th:only-of-type {\n        vertical-align: middle;\n    }\n\n    .dataframe tbody tr th {\n        vertical-align: top;\n    }\n\n    .dataframe thead th {\n        text-align: right;\n    }\n</style>\n<table border=\"1\" class=\"dataframe\">\n  <thead>\n    <tr style=\"text-align: right;\">\n      <th></th>\n      <th>month</th>\n      <th>average precipitation</th>\n    </tr>\n  </thead>\n  <tbody>\n    <tr>\n      <th>0</th>\n      <td>1</td>\n      <td>0.073000</td>\n    </tr>\n    <tr>\n      <th>1</th>\n      <td>2</td>\n      <td>0.167778</td>\n    </tr>\n    <tr>\n      <th>2</th>\n      <td>3</td>\n      <td>0.139667</td>\n    </tr>\n    <tr>\n      <th>3</th>\n      <td>4</td>\n      <td>0.056897</td>\n    </tr>\n    <tr>\n      <th>4</th>\n      <td>5</td>\n      <td>0.014194</td>\n    </tr>\n    <tr>\n      <th>5</th>\n      <td>6</td>\n      <td>0.005667</td>\n    </tr>\n    <tr>\n      <th>6</th>\n      <td>7</td>\n      <td>0.008710</td>\n    </tr>\n    <tr>\n      <th>7</th>\n      <td>8</td>\n      <td>0.035484</td>\n    </tr>\n    <tr>\n      <th>8</th>\n      <td>9</td>\n      <td>0.041000</td>\n    </tr>\n    <tr>\n      <th>9</th>\n      <td>10</td>\n      <td>0.233226</td>\n    </tr>\n    <tr>\n      <th>10</th>\n      <td>11</td>\n      <td>0.146552</td>\n    </tr>\n    <tr>\n      <th>11</th>\n      <td>12</td>\n      <td>0.150000</td>\n    </tr>\n  </tbody>\n</table>\n</div>"
     },
     "metadata": {},
     "execution_count": 228
    }
   ],
   "source": [
    "\n",
    "weather_file.head(100)\n",
    "\n",
    "month_10_p1=weather_file[:19]\n",
    "month_11=weather_file[20:49]\n",
    "month_12=weather_file[50:80]\n",
    "month_1=weather_file[81:111]\n",
    "month_2=weather_file[112:139]\n",
    "month_3=weather_file[140:170]\n",
    "month_4=weather_file[171:200]\n",
    "month_5=weather_file[200:231]\n",
    "month_6=weather_file[231:261]\n",
    "month_7=weather_file[261:292]\n",
    "month_8=weather_file[292:323]\n",
    "month_9=weather_file[323:353]\n",
    "month_10_p2=weather_file[353:365]\n",
    "month_10 = pd.concat([month_10_p2,month_10_p1])#concation p1+p2\n",
    "# month_10['Precipitation_In'].mean()\n",
    "\n",
    "data_table = {\n",
    "        'month': ['1', '2', '3', '4', '5','6','7', '8', '9', '10', '11','12'],\n",
    "        'average precipitation': [month_1['Precipitation_In'].mean(),month_2['Precipitation_In'].mean(),month_3['Precipitation_In'].mean(),month_4['Precipitation_In'].mean(),month_5['Precipitation_In'].mean(),month_6['Precipitation_In'].mean(),month_7['Precipitation_In'].mean(),month_8['Precipitation_In'].mean(),month_9['Precipitation_In'].mean(),month_10['Precipitation_In'].mean(),month_11['Precipitation_In'].mean(),month_12['Precipitation_In'].mean()]}\n",
    "\n",
    "\n",
    "render_table = pd.DataFrame(data_table, columns = ['month', 'average precipitation'])\n",
    "\n",
    "render_table\n",
    "\n",
    "# regex is the practical way (T_T)\n",
    "# import re\n",
    "\n",
    "# regex = r\"(^\\d+)\"\n",
    "\n",
    "# testtttt = (\"1/5\\n\"\n",
    "# \t\"12/8\")\n"
   ]
  },
  {
   "cell_type": "markdown",
   "metadata": {},
   "source": [
    "## the median precipitation."
   ]
  },
  {
   "cell_type": "code",
   "execution_count": 229,
   "metadata": {},
   "outputs": [
    {
     "output_type": "execute_result",
     "data": {
      "text/plain": "0.06494827586206897"
     },
     "metadata": {},
     "execution_count": 229
    }
   ],
   "source": [
    "\n",
    "#I am not sure what median he wants, so pick one of them :p\n",
    "median1=weather_file['Precipitation_In'].median()\n",
    "median1\n",
    "# _______________________________\n",
    "average_precipitation_li=data_table['average precipitation']\n",
    "import statistics #to find the median to a list\n",
    "median2=statistics.median(average_precipitation_li)\n",
    "median2\n"
   ]
  },
  {
   "cell_type": "markdown",
   "metadata": {},
   "source": [
    "## What’s the average number of bikes at a given bike station?\n"
   ]
  },
  {
   "cell_type": "code",
   "execution_count": 230,
   "metadata": {},
   "outputs": [
    {
     "output_type": "execute_result",
     "data": {
      "text/plain": "   statio_name  bikes_average_number\n0           BT             16.000000\n1          CBD             19.000000\n2           CD              0.000000\n3           CH             17.454545\n4          DPD             21.000000\n5           EL             17.333333\n6           FH             10.000000\n7           ID             16.000000\n8           PS             18.000000\n9          SLU             17.000000\n10          UD             17.000000\n11          UW             12.857143\n12          WF             20.000000",
      "text/html": "<div>\n<style scoped>\n    .dataframe tbody tr th:only-of-type {\n        vertical-align: middle;\n    }\n\n    .dataframe tbody tr th {\n        vertical-align: top;\n    }\n\n    .dataframe thead th {\n        text-align: right;\n    }\n</style>\n<table border=\"1\" class=\"dataframe\">\n  <thead>\n    <tr style=\"text-align: right;\">\n      <th></th>\n      <th>statio_name</th>\n      <th>bikes_average_number</th>\n    </tr>\n  </thead>\n  <tbody>\n    <tr>\n      <th>0</th>\n      <td>BT</td>\n      <td>16.000000</td>\n    </tr>\n    <tr>\n      <th>1</th>\n      <td>CBD</td>\n      <td>19.000000</td>\n    </tr>\n    <tr>\n      <th>2</th>\n      <td>CD</td>\n      <td>0.000000</td>\n    </tr>\n    <tr>\n      <th>3</th>\n      <td>CH</td>\n      <td>17.454545</td>\n    </tr>\n    <tr>\n      <th>4</th>\n      <td>DPD</td>\n      <td>21.000000</td>\n    </tr>\n    <tr>\n      <th>5</th>\n      <td>EL</td>\n      <td>17.333333</td>\n    </tr>\n    <tr>\n      <th>6</th>\n      <td>FH</td>\n      <td>10.000000</td>\n    </tr>\n    <tr>\n      <th>7</th>\n      <td>ID</td>\n      <td>16.000000</td>\n    </tr>\n    <tr>\n      <th>8</th>\n      <td>PS</td>\n      <td>18.000000</td>\n    </tr>\n    <tr>\n      <th>9</th>\n      <td>SLU</td>\n      <td>17.000000</td>\n    </tr>\n    <tr>\n      <th>10</th>\n      <td>UD</td>\n      <td>17.000000</td>\n    </tr>\n    <tr>\n      <th>11</th>\n      <td>UW</td>\n      <td>12.857143</td>\n    </tr>\n    <tr>\n      <th>12</th>\n      <td>WF</td>\n      <td>20.000000</td>\n    </tr>\n  </tbody>\n</table>\n</div>"
     },
     "metadata": {},
     "execution_count": 230
    }
   ],
   "source": [
    "station_file.head(10)\n",
    "BT=station_file[:4]\n",
    "CBD=station_file[4:10]\n",
    "CD=station_file[10:11]\n",
    "CH1=station_file[11:21]####\n",
    "DPD=station_file[21:23]\n",
    "EL=station_file[23:26]\n",
    "FH=station_file[26:28]\n",
    "ID=station_file[28:29]\n",
    "PS=station_file[29:31]\n",
    "SLU1=station_file[31:42]####\n",
    "UD=station_file[42:46]\n",
    "UW1=station_file[46:52]####\n",
    "WF1=station_file[52:54]####\n",
    "CH2=station_file[54:55]####\n",
    "SLU2=station_file[55:56]###\n",
    "UW2=station_file[56:57]####\n",
    "WF2=station_file[57:58]####\n",
    "\n",
    "CH=pd.concat([CH2,CH1])#concation\n",
    "UW=pd.concat([UW2,UW1])#concation\n",
    "WF=pd.concat([WF2,WF1])#concation\n",
    "SLU=pd.concat([SLU2,SLU1])#concation\n",
    "\n",
    "station_table = {\n",
    "        'statio_name': ['BT', 'CBD', 'CD', 'CH', 'DPD','EL','FH', 'ID', 'PS', 'SLU', 'UD','UW','WF'],\n",
    "        'bikes_average_number': [BT['current_dockcount'].mean(),CBD['current_dockcount'].mean(),CD['current_dockcount'].mean(),CH['current_dockcount'].mean(),DPD['current_dockcount'].mean(),EL['current_dockcount'].mean(),FH['current_dockcount'].mean(),ID['current_dockcount'].mean(),PS['current_dockcount'].mean(),SLU['current_dockcount'].mean(),UD['current_dockcount'].mean(),UW['current_dockcount'].mean(),WF['current_dockcount'].mean()]}\n",
    "\n",
    "\n",
    "render_station_table = pd.DataFrame(station_table, columns = ['statio_name', 'bikes_average_number'])\n",
    "\n",
    "render_station_table\n",
    "\n",
    "\n",
    "\n",
    "\n",
    "\n",
    "\n"
   ]
  },
  {
   "cell_type": "markdown",
   "metadata": {},
   "source": [
    "## When a bike station is modified, is it more likely that it’ll lose bikes or gain bikes? How do you know?"
   ]
  },
  {
   "cell_type": "code",
   "execution_count": 243,
   "metadata": {},
   "outputs": [
    {
     "output_type": "execute_result",
     "data": {
      "text/plain": "             lat        long  install_dockcount  current_dockcount\ncount   4.000000    4.000000           4.000000           4.000000\nmean   47.615863 -122.346209          16.000000          16.000000\nstd     0.002173    0.004406           1.632993           1.632993\nmin    47.613110 -122.350964          14.000000          14.000000\n25%    47.615149 -122.349164          15.500000          15.500000\n50%    47.615961 -122.346386          16.000000          16.000000\n75%    47.616675 -122.343432          16.500000          16.500000\nmax    47.618418 -122.341102          18.000000          18.000000",
      "text/html": "<div>\n<style scoped>\n    .dataframe tbody tr th:only-of-type {\n        vertical-align: middle;\n    }\n\n    .dataframe tbody tr th {\n        vertical-align: top;\n    }\n\n    .dataframe thead th {\n        text-align: right;\n    }\n</style>\n<table border=\"1\" class=\"dataframe\">\n  <thead>\n    <tr style=\"text-align: right;\">\n      <th></th>\n      <th>lat</th>\n      <th>long</th>\n      <th>install_dockcount</th>\n      <th>current_dockcount</th>\n    </tr>\n  </thead>\n  <tbody>\n    <tr>\n      <th>count</th>\n      <td>4.000000</td>\n      <td>4.000000</td>\n      <td>4.000000</td>\n      <td>4.000000</td>\n    </tr>\n    <tr>\n      <th>mean</th>\n      <td>47.615863</td>\n      <td>-122.346209</td>\n      <td>16.000000</td>\n      <td>16.000000</td>\n    </tr>\n    <tr>\n      <th>std</th>\n      <td>0.002173</td>\n      <td>0.004406</td>\n      <td>1.632993</td>\n      <td>1.632993</td>\n    </tr>\n    <tr>\n      <th>min</th>\n      <td>47.613110</td>\n      <td>-122.350964</td>\n      <td>14.000000</td>\n      <td>14.000000</td>\n    </tr>\n    <tr>\n      <th>25%</th>\n      <td>47.615149</td>\n      <td>-122.349164</td>\n      <td>15.500000</td>\n      <td>15.500000</td>\n    </tr>\n    <tr>\n      <th>50%</th>\n      <td>47.615961</td>\n      <td>-122.346386</td>\n      <td>16.000000</td>\n      <td>16.000000</td>\n    </tr>\n    <tr>\n      <th>75%</th>\n      <td>47.616675</td>\n      <td>-122.343432</td>\n      <td>16.500000</td>\n      <td>16.500000</td>\n    </tr>\n    <tr>\n      <th>max</th>\n      <td>47.618418</td>\n      <td>-122.341102</td>\n      <td>18.000000</td>\n      <td>18.000000</td>\n    </tr>\n  </tbody>\n</table>\n</div>"
     },
     "metadata": {},
     "execution_count": 243
    }
   ],
   "source": [
    "station_file.head(10)\n",
    "# BT.describe()\n",
    "# BT.describe()['current_dockcount']['mean']-BT.describe()['install_dockcount']['mean']\n",
    "BT_modified=round(BT['current_dockcount'].mean())-round(BT['install_dockcount'].mean())\n",
    "CBD_modified=round(CBD['current_dockcount'].mean())-round(CBD['install_dockcount'].mean())\n",
    "CD_modified=round(CD['current_dockcount'].mean())-round(CD['install_dockcount'].mean())\n",
    "CH_modified=round(CH['current_dockcount'].mean())-round(CH['install_dockcount'].mean())\n",
    "DPD_modified=round(DPD['current_dockcount'].mean())-round(DPD['install_dockcount'].mean())\n",
    "EL_modified=round(EL['current_dockcount'].mean())-round(EL['install_dockcount'].mean())\n",
    "FH_modified=round(FH['current_dockcount'].mean())-round(FH['install_dockcount'].mean())\n",
    "ID_modified=round(ID['current_dockcount'].mean())-round(ID['install_dockcount'].mean())\n",
    "PS_modified=round(PS['current_dockcount'].mean())-round(PS['install_dockcount'].mean())\n",
    "SLU_modified=round(SLU['current_dockcount'].mean())-round(SLU['install_dockcount'].mean())\n",
    "UD_modified=round(UD['current_dockcount'].mean())-round(UD['install_dockcount'].mean())\n",
    "UW_modified=round(UW['current_dockcount'].mean())-round(UW['install_dockcount'].mean())\n",
    "WF_modified=round(WF['current_dockcount'].mean())-round(WF['install_dockcount'].mean())\n"
   ]
  },
  {
   "cell_type": "code",
   "execution_count": 215,
   "metadata": {},
   "outputs": [
    {
     "output_type": "execute_result",
     "data": {
      "text/plain": "   statio_name  current-past status\n0           BT             0   same\n1          CBD             0   same\n2           CD           -16   lose\n3           CH            -1   lose\n4          DPD            -3   lose\n5           EL             1   gain\n6           FH            -8   lose\n7           ID             0   same\n8           PS             0   same\n9          SLU            -1   lose\n10          UD             0   same\n11          UW            -3   lose\n12          WF             2   gain",
      "text/html": "<div>\n<style scoped>\n    .dataframe tbody tr th:only-of-type {\n        vertical-align: middle;\n    }\n\n    .dataframe tbody tr th {\n        vertical-align: top;\n    }\n\n    .dataframe thead th {\n        text-align: right;\n    }\n</style>\n<table border=\"1\" class=\"dataframe\">\n  <thead>\n    <tr style=\"text-align: right;\">\n      <th></th>\n      <th>statio_name</th>\n      <th>current-past</th>\n      <th>status</th>\n    </tr>\n  </thead>\n  <tbody>\n    <tr>\n      <th>0</th>\n      <td>BT</td>\n      <td>0</td>\n      <td>same</td>\n    </tr>\n    <tr>\n      <th>1</th>\n      <td>CBD</td>\n      <td>0</td>\n      <td>same</td>\n    </tr>\n    <tr>\n      <th>2</th>\n      <td>CD</td>\n      <td>-16</td>\n      <td>lose</td>\n    </tr>\n    <tr>\n      <th>3</th>\n      <td>CH</td>\n      <td>-1</td>\n      <td>lose</td>\n    </tr>\n    <tr>\n      <th>4</th>\n      <td>DPD</td>\n      <td>-3</td>\n      <td>lose</td>\n    </tr>\n    <tr>\n      <th>5</th>\n      <td>EL</td>\n      <td>1</td>\n      <td>gain</td>\n    </tr>\n    <tr>\n      <th>6</th>\n      <td>FH</td>\n      <td>-8</td>\n      <td>lose</td>\n    </tr>\n    <tr>\n      <th>7</th>\n      <td>ID</td>\n      <td>0</td>\n      <td>same</td>\n    </tr>\n    <tr>\n      <th>8</th>\n      <td>PS</td>\n      <td>0</td>\n      <td>same</td>\n    </tr>\n    <tr>\n      <th>9</th>\n      <td>SLU</td>\n      <td>-1</td>\n      <td>lose</td>\n    </tr>\n    <tr>\n      <th>10</th>\n      <td>UD</td>\n      <td>0</td>\n      <td>same</td>\n    </tr>\n    <tr>\n      <th>11</th>\n      <td>UW</td>\n      <td>-3</td>\n      <td>lose</td>\n    </tr>\n    <tr>\n      <th>12</th>\n      <td>WF</td>\n      <td>2</td>\n      <td>gain</td>\n    </tr>\n  </tbody>\n</table>\n</div>"
     },
     "metadata": {},
     "execution_count": 215
    }
   ],
   "source": [
    "li_modified_station=[BT_modified,CBD_modified,CD_modified,CH_modified,DPD_modified,EL_modified,FH_modified,ID_modified,PS_modified,SLU_modified,UD_modified,UW_modified,WF_modified]\n",
    "\n",
    "lose_or_gain=[]\n",
    "for i in li_modified_station:\n",
    "    if i > 0 :\n",
    "        lose_or_gain.append('gain')\n",
    "    elif i < 0 :\n",
    "        lose_or_gain.append('lose')\n",
    "    else:\n",
    "        lose_or_gain.append('same')\n",
    "\n",
    "# lose_or_gain\n",
    "\n",
    "\n",
    "\n",
    "lose_gain_table = {\n",
    "        'statio_name': ['BT', 'CBD', 'CD', 'CH', 'DPD','EL','FH', 'ID', 'PS', 'SLU', 'UD','UW','WF'],\n",
    "        'current-past':li_modified_station,\n",
    "        'status':lose_or_gain}\n",
    "\n",
    "\n",
    "render_after_modified_table = pd.DataFrame(lose_gain_table, columns = ['statio_name', 'current-past','status'])\n",
    "\n",
    "render_after_modified_table"
   ]
  },
  {
   "cell_type": "markdown",
   "metadata": {},
   "source": [
    "### what is the number for all the current bikes for all station ?"
   ]
  },
  {
   "cell_type": "code",
   "execution_count": 232,
   "metadata": {},
   "outputs": [
    {
     "output_type": "execute_result",
     "data": {
      "text/plain": "958"
     },
     "metadata": {},
     "execution_count": 232
    }
   ],
   "source": [
    "station_file['current_dockcount'].sum()"
   ]
  },
  {
   "cell_type": "markdown",
   "metadata": {},
   "source": [
    "### what is the station which has the greates bikes average ?"
   ]
  },
  {
   "cell_type": "code",
   "execution_count": 233,
   "metadata": {},
   "outputs": [
    {
     "output_type": "execute_result",
     "data": {
      "text/plain": "  statio_name  bikes_average_number\n4         DPD                  21.0",
      "text/html": "<div>\n<style scoped>\n    .dataframe tbody tr th:only-of-type {\n        vertical-align: middle;\n    }\n\n    .dataframe tbody tr th {\n        vertical-align: top;\n    }\n\n    .dataframe thead th {\n        text-align: right;\n    }\n</style>\n<table border=\"1\" class=\"dataframe\">\n  <thead>\n    <tr style=\"text-align: right;\">\n      <th></th>\n      <th>statio_name</th>\n      <th>bikes_average_number</th>\n    </tr>\n  </thead>\n  <tbody>\n    <tr>\n      <th>4</th>\n      <td>DPD</td>\n      <td>21.0</td>\n    </tr>\n  </tbody>\n</table>\n</div>"
     },
     "metadata": {},
     "execution_count": 233
    }
   ],
   "source": [
    "top=render_station_table[['statio_name','bikes_average_number']].sort_values('bikes_average_number', ascending=False).head(1)\n",
    "top"
   ]
  },
  {
   "cell_type": "markdown",
   "metadata": {},
   "source": [
    "### what is the station which has the lowest bikes average ?"
   ]
  },
  {
   "cell_type": "code",
   "execution_count": 234,
   "metadata": {},
   "outputs": [
    {
     "output_type": "execute_result",
     "data": {
      "text/plain": "  statio_name  bikes_average_number\n2          CD                   0.0",
      "text/html": "<div>\n<style scoped>\n    .dataframe tbody tr th:only-of-type {\n        vertical-align: middle;\n    }\n\n    .dataframe tbody tr th {\n        vertical-align: top;\n    }\n\n    .dataframe thead th {\n        text-align: right;\n    }\n</style>\n<table border=\"1\" class=\"dataframe\">\n  <thead>\n    <tr style=\"text-align: right;\">\n      <th></th>\n      <th>statio_name</th>\n      <th>bikes_average_number</th>\n    </tr>\n  </thead>\n  <tbody>\n    <tr>\n      <th>2</th>\n      <td>CD</td>\n      <td>0.0</td>\n    </tr>\n  </tbody>\n</table>\n</div>"
     },
     "metadata": {},
     "execution_count": 234
    }
   ],
   "source": [
    "q=render_station_table[['statio_name','bikes_average_number']].sort_values('bikes_average_number', ascending=True).head(1)\n",
    "q"
   ]
  },
  {
   "cell_type": "code",
   "execution_count": null,
   "metadata": {},
   "outputs": [],
   "source": []
  }
 ]
}