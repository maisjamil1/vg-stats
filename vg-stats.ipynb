{
 "metadata": {
  "language_info": {
   "codemirror_mode": {
    "name": "ipython",
    "version": 3
   },
   "file_extension": ".py",
   "mimetype": "text/x-python",
   "name": "python",
   "nbconvert_exporter": "python",
   "pygments_lexer": "ipython3",
   "version": "3.8.5-final"
  },
  "orig_nbformat": 2,
  "kernelspec": {
   "name": "python_defaultSpec_1598909807879",
   "display_name": "Python 3.8.5 64-bit ('.venv': venv)"
  }
 },
 "nbformat": 4,
 "nbformat_minor": 2,
 "cells": [
  {
   "cell_type": "markdown",
   "metadata": {},
   "source": [
    "# Vg stats"
   ]
  },
  {
   "cell_type": "code",
   "execution_count": null,
   "metadata": {},
   "outputs": [],
   "source": [
    "import pandas as pd\n",
    "import numpy as np\n",
    "#ubuntu :poetry add matplotlib\n",
    "import matplotlib.pyplot as plt\n",
    "%matplotlib inline"
   ]
  },
  {
   "cell_type": "code",
   "execution_count": 12,
   "metadata": {
    "tags": []
   },
   "outputs": [],
   "source": [
    "df = pd.read_csv('./vgsales.csv')\n",
    "#Notes_________________________________________\n",
    "# df.tail(10)\n",
    "# df.head(10)\n",
    "# df.describe()# col +mean min max ...\n",
    "# df.info() # how many col do i have +the data type\n",
    "# df.keys() #col names\n",
    "# std() function return sample standard deviation over requested axis.\n",
    "# df.iloc[1]  #to access specific row\n",
    "# all_Publisher = df['Publisher'].tail(10)# to access specific col_last 10\n",
    "# all_Publisher = df['Publisher'].mode() # mode :the maximum frequency\n",
    "# all_recovered.tail(10).mean()## average"
   ]
  },
  {
   "cell_type": "markdown",
   "metadata": {
    "tags": []
   },
   "source": [
    "## Which company is the most common video game publisher?"
   ]
  },
  {
   "cell_type": "code",
   "execution_count": 33,
   "metadata": {
    "tags": []
   },
   "outputs": [
    {
     "output_type": "execute_result",
     "data": {
      "text/plain": "'Electronic Arts'"
     },
     "metadata": {},
     "execution_count": 33
    }
   ],
   "source": [
    "all_Publisher = df['Publisher'].mode()\n",
    "most_common_publisher=all_Publisher[0]\n",
    "most_common_publisher"
   ]
  },
  {
   "cell_type": "markdown",
   "metadata": {},
   "source": [
    "## What’s the most common platform?"
   ]
  },
  {
   "cell_type": "code",
   "execution_count": 34,
   "metadata": {
    "tags": []
   },
   "outputs": [
    {
     "output_type": "execute_result",
     "data": {
      "text/plain": "'DS'"
     },
     "metadata": {},
     "execution_count": 34
    }
   ],
   "source": [
    "all_Platforms = df['Platform'].mode()\n",
    "most_common_platform=all_Platforms[0]\n",
    "most_common_platform"
   ]
  },
  {
   "cell_type": "markdown",
   "metadata": {},
   "source": [
    "## What about the most common genre?"
   ]
  },
  {
   "cell_type": "code",
   "execution_count": 35,
   "metadata": {
    "tags": []
   },
   "outputs": [
    {
     "output_type": "execute_result",
     "data": {
      "text/plain": "'Action'"
     },
     "metadata": {},
     "execution_count": 35
    }
   ],
   "source": [
    "all_Genres = df['Genre'].mode()\n",
    "most_common_genre=all_Genres[0]\n",
    "most_common_genre"
   ]
  },
  {
   "cell_type": "markdown",
   "metadata": {},
   "source": [
    "## What are the top 20 highest grossing games?"
   ]
  },
  {
   "cell_type": "code",
   "execution_count": 36,
   "metadata": {
    "tags": []
   },
   "outputs": [
    {
     "output_type": "execute_result",
     "data": {
      "text/plain": "                                            Name  Global_Sales\n0                                     Wii Sports         82.74\n1                              Super Mario Bros.         40.24\n2                                 Mario Kart Wii         35.82\n3                              Wii Sports Resort         33.00\n4                       Pokemon Red/Pokemon Blue         31.37\n5                                         Tetris         30.26\n6                          New Super Mario Bros.         30.01\n7                                       Wii Play         29.02\n8                      New Super Mario Bros. Wii         28.62\n9                                      Duck Hunt         28.31\n10                                    Nintendogs         24.76\n11                                 Mario Kart DS         23.42\n12                   Pokemon Gold/Pokemon Silver         23.10\n13                                       Wii Fit         22.72\n14                                  Wii Fit Plus         22.00\n15                            Kinect Adventures!         21.82\n16                            Grand Theft Auto V         21.40\n17                 Grand Theft Auto: San Andreas         20.81\n18                             Super Mario World         20.61\n19  Brain Age: Train Your Brain in Minutes a Day         20.22",
      "text/html": "<div>\n<style scoped>\n    .dataframe tbody tr th:only-of-type {\n        vertical-align: middle;\n    }\n\n    .dataframe tbody tr th {\n        vertical-align: top;\n    }\n\n    .dataframe thead th {\n        text-align: right;\n    }\n</style>\n<table border=\"1\" class=\"dataframe\">\n  <thead>\n    <tr style=\"text-align: right;\">\n      <th></th>\n      <th>Name</th>\n      <th>Global_Sales</th>\n    </tr>\n  </thead>\n  <tbody>\n    <tr>\n      <th>0</th>\n      <td>Wii Sports</td>\n      <td>82.74</td>\n    </tr>\n    <tr>\n      <th>1</th>\n      <td>Super Mario Bros.</td>\n      <td>40.24</td>\n    </tr>\n    <tr>\n      <th>2</th>\n      <td>Mario Kart Wii</td>\n      <td>35.82</td>\n    </tr>\n    <tr>\n      <th>3</th>\n      <td>Wii Sports Resort</td>\n      <td>33.00</td>\n    </tr>\n    <tr>\n      <th>4</th>\n      <td>Pokemon Red/Pokemon Blue</td>\n      <td>31.37</td>\n    </tr>\n    <tr>\n      <th>5</th>\n      <td>Tetris</td>\n      <td>30.26</td>\n    </tr>\n    <tr>\n      <th>6</th>\n      <td>New Super Mario Bros.</td>\n      <td>30.01</td>\n    </tr>\n    <tr>\n      <th>7</th>\n      <td>Wii Play</td>\n      <td>29.02</td>\n    </tr>\n    <tr>\n      <th>8</th>\n      <td>New Super Mario Bros. Wii</td>\n      <td>28.62</td>\n    </tr>\n    <tr>\n      <th>9</th>\n      <td>Duck Hunt</td>\n      <td>28.31</td>\n    </tr>\n    <tr>\n      <th>10</th>\n      <td>Nintendogs</td>\n      <td>24.76</td>\n    </tr>\n    <tr>\n      <th>11</th>\n      <td>Mario Kart DS</td>\n      <td>23.42</td>\n    </tr>\n    <tr>\n      <th>12</th>\n      <td>Pokemon Gold/Pokemon Silver</td>\n      <td>23.10</td>\n    </tr>\n    <tr>\n      <th>13</th>\n      <td>Wii Fit</td>\n      <td>22.72</td>\n    </tr>\n    <tr>\n      <th>14</th>\n      <td>Wii Fit Plus</td>\n      <td>22.00</td>\n    </tr>\n    <tr>\n      <th>15</th>\n      <td>Kinect Adventures!</td>\n      <td>21.82</td>\n    </tr>\n    <tr>\n      <th>16</th>\n      <td>Grand Theft Auto V</td>\n      <td>21.40</td>\n    </tr>\n    <tr>\n      <th>17</th>\n      <td>Grand Theft Auto: San Andreas</td>\n      <td>20.81</td>\n    </tr>\n    <tr>\n      <th>18</th>\n      <td>Super Mario World</td>\n      <td>20.61</td>\n    </tr>\n    <tr>\n      <th>19</th>\n      <td>Brain Age: Train Your Brain in Minutes a Day</td>\n      <td>20.22</td>\n    </tr>\n  </tbody>\n</table>\n</div>"
     },
     "metadata": {},
     "execution_count": 36
    }
   ],
   "source": [
    "\n",
    "# x=df['Global_Sales'].sort_values().iloc[-1:-20:-1]\n",
    "# x\n",
    "# df[[\"Name\", \"Global_Sales\"]]\n",
    "\n",
    "\n",
    "\n",
    "top_twenty_highest_grossing_games=df[['Name','Global_Sales']].sort_values('Global_Sales', ascending=False).head(20)\n",
    "top_twenty_highest_grossing_games\n",
    "# top_twenty_highest_grossing_games.iloc[0].Name\n",
    "# top_twenty_highest_grossing_games.iloc[19].Name\n"
   ]
  },
  {
   "cell_type": "markdown",
   "metadata": {},
   "source": [
    "## For North American video game sales, what’s the median?"
   ]
  },
  {
   "cell_type": "code",
   "execution_count": 37,
   "metadata": {
    "tags": []
   },
   "outputs": [
    {
     "output_type": "stream",
     "name": "stdout",
     "text": "0.08\n9934                          Turok: Evolution\n9957                                  Deadpool\n9996                GT Advance 2: Rally Racing\n10000                           A Witch's Tale\n10012                        Nickelodeon Dance\n10020                 Phantasy Star Collection\n10022                    LEGO Knights' Kingdom\n10024       Family Game Night 4: The Game Show\n10026                             NBA Jam 2002\n10029                 Tony Hawk's Pro Skater 5\n10042    Tom Clancy's Rainbow Six: Rogue Spear\nName: Name, dtype: object\n____________________________________________________________\n['Turok: Evolution', 'Deadpool', 'GT Advance 2: Rally Racing', \"A Witch's Tale\", 'Nickelodeon Dance', 'Phantasy Star Collection', \"LEGO Knights' Kingdom\", 'Family Game Night 4: The Game Show', 'NBA Jam 2002', \"Tony Hawk's Pro Skater 5\", \"Tom Clancy's Rainbow Six: Rogue Spear\"]\n"
    }
   ],
   "source": [
    "North_American_median= df[\"NA_Sales\"].median()\n",
    "print(North_American_median)######the answer0.08\n",
    "# ________________________\n",
    "games_have_same_median = df[df[\"NA_Sales\"] == North_American_median]\n",
    "# games_have_same_median\n",
    "# games_have_same_median[:10]\n",
    "# ________________________\n",
    "#Provide a secondary output showing ten games surrounding the median sales output\n",
    "#assume that games with same median value are sorted in descending order\n",
    "# ________________________\n",
    "num_of_games=len(games_have_same_median)\n",
    "num_of_games#459\n",
    "round(num_of_games/2)#230\n",
    "secondary_output=games_have_same_median[225:236]#to get 10 from the center of games_have_same_median\n",
    "# _________________________\n",
    "names=games_have_same_median[225:236]\n",
    "# ten_median_names=names[['Name']]\n",
    "ten_median_names=names['Name']\n",
    "print(ten_median_names)\n",
    "\n",
    "# _________________________\n",
    "ten_median_na_seller_names=[]\n",
    "for i in range(11):\n",
    "    ten_median_na_seller_names.append(ten_median_names.iloc[i])\n",
    "print(\"_\"*60)\n",
    "print(ten_median_na_seller_names)\n",
    "# ________________________\n",
    "\n"
   ]
  },
  {
   "cell_type": "markdown",
   "metadata": {},
   "source": [
    "## For the top-selling game of all time, how many standard deviations above/below the mean are its sales for North America?"
   ]
  },
  {
   "cell_type": "code",
   "execution_count": 38,
   "metadata": {},
   "outputs": [
    {
     "output_type": "execute_result",
     "data": {
      "text/plain": "50.47898767479108"
     },
     "metadata": {},
     "execution_count": 38
    }
   ],
   "source": [
    "df.sort_values(\"Global_Sales\", ascending=False)\n",
    "the_top_selling_game=df.sort_values(\"Global_Sales\", ascending=False).iloc[0]\n",
    "the_top_selling_game_sales_in_NA=df.sort_values(\"Global_Sales\", ascending=False).iloc[0].NA_Sales\n",
    "\n",
    "\"\"\"\n",
    "I am not sure\n",
    "https://www.statisticshowto.com/probability-and-statistics/z-score/:~:text=Z%20scores%20and%20Standard%20Deviations,-Technically%2C%20a%20z&text=A%20z%2Dscore%20of%201,standard%20deviations%20below%20the%20mean.\n",
    "\n",
    "z-score it a measure of how many standard deviations below or above the population mean a raw score is.\n",
    "z = (x – μ) / σ\n",
    "\"\"\"\n",
    "\n",
    "mean_NA=df[\"NA_Sales\"].mean()\n",
    "std_NA=df[\"NA_Sales\"].std()\n",
    "z=(the_top_selling_game_sales_in_NA-mean_NA)/std_NA\n",
    "z\n"
   ]
  },
  {
   "cell_type": "markdown",
   "metadata": {},
   "source": [
    "## The Nintendo Wii seems to have outdone itself with games. How does its average number of sales compare with all of the other platforms?"
   ]
  },
  {
   "cell_type": "code",
   "execution_count": 39,
   "metadata": {},
   "outputs": [
    {
     "output_type": "execute_result",
     "data": {
      "text/plain": "0.6994037735849057"
     },
     "metadata": {},
     "execution_count": 39
    }
   ],
   "source": [
    "# all_platforms_ave=df[\"Platform\"].Global_Sales.mean()\n",
    "wii_paltform_ave = df[df[\"Platform\"] == 'Wii'].Global_Sales.mean()\n",
    "wii_paltform_ave\n"
   ]
  },
  {
   "cell_type": "markdown",
   "metadata": {},
   "source": [
    "### what is the newest game in the list ?"
   ]
  },
  {
   "cell_type": "code",
   "execution_count": 40,
   "metadata": {},
   "outputs": [
    {
     "output_type": "execute_result",
     "data": {
      "text/plain": "'Imagine: Makeup Artist'"
     },
     "metadata": {},
     "execution_count": 40
    }
   ],
   "source": [
    "year=df[['Name','Year']].sort_values('Year', ascending=False).head(20)\n",
    "# year.iloc[0]\n",
    "year.iloc[0].Name"
   ]
  },
  {
   "cell_type": "markdown",
   "metadata": {},
   "source": [
    "### what the most popular game in japan ?"
   ]
  },
  {
   "cell_type": "code",
   "execution_count": 41,
   "metadata": {},
   "outputs": [
    {
     "output_type": "execute_result",
     "data": {
      "text/plain": "'Pokemon Red/Pokemon Blue'"
     },
     "metadata": {},
     "execution_count": 41
    }
   ],
   "source": [
    "japan_most_selling_game=df[['Name','JP_Sales']].sort_values('JP_Sales', ascending=False).head(20)\n",
    "japan_most_selling_game.iloc[0].Name"
   ]
  },
  {
   "cell_type": "markdown",
   "metadata": {},
   "source": [
    "### Top 5 Best Selling Sega games?"
   ]
  },
  {
   "cell_type": "code",
   "execution_count": 42,
   "metadata": {},
   "outputs": [
    {
     "output_type": "execute_result",
     "data": {
      "text/plain": "    Publisher                                       Name  Global_Sales\n85       Sega         Mario & Sonic at the Olympic Games          8.06\n143      Sega                       Sonic the Hedgehog 2          6.03\n189      Sega         Mario & Sonic at the Olympic Games          5.14\n233      Sega  Mario & Sonic at the Olympic Winter Games          4.58\n254      Sega                         Sonic the Hedgehog          4.34",
      "text/html": "<div>\n<style scoped>\n    .dataframe tbody tr th:only-of-type {\n        vertical-align: middle;\n    }\n\n    .dataframe tbody tr th {\n        vertical-align: top;\n    }\n\n    .dataframe thead th {\n        text-align: right;\n    }\n</style>\n<table border=\"1\" class=\"dataframe\">\n  <thead>\n    <tr style=\"text-align: right;\">\n      <th></th>\n      <th>Publisher</th>\n      <th>Name</th>\n      <th>Global_Sales</th>\n    </tr>\n  </thead>\n  <tbody>\n    <tr>\n      <th>85</th>\n      <td>Sega</td>\n      <td>Mario &amp; Sonic at the Olympic Games</td>\n      <td>8.06</td>\n    </tr>\n    <tr>\n      <th>143</th>\n      <td>Sega</td>\n      <td>Sonic the Hedgehog 2</td>\n      <td>6.03</td>\n    </tr>\n    <tr>\n      <th>189</th>\n      <td>Sega</td>\n      <td>Mario &amp; Sonic at the Olympic Games</td>\n      <td>5.14</td>\n    </tr>\n    <tr>\n      <th>233</th>\n      <td>Sega</td>\n      <td>Mario &amp; Sonic at the Olympic Winter Games</td>\n      <td>4.58</td>\n    </tr>\n    <tr>\n      <th>254</th>\n      <td>Sega</td>\n      <td>Sonic the Hedgehog</td>\n      <td>4.34</td>\n    </tr>\n  </tbody>\n</table>\n</div>"
     },
     "metadata": {},
     "execution_count": 42
    }
   ],
   "source": [
    "df[df['Publisher']=='Sega'][['Publisher','Name','Global_Sales']].sort_values('Global_Sales', ascending=False).head(5)"
   ]
  },
  {
   "cell_type": "code",
   "execution_count": 43,
   "metadata": {
    "tags": []
   },
   "outputs": [
    {
     "output_type": "stream",
     "name": "stdout",
     "text": "Success!!!\n"
    }
   ],
   "source": [
    "def test():\n",
    "\n",
    "    def assert_equal(actual,expected):\n",
    "        assert actual == expected, f\"Expected {expected} but got {actual}\"\n",
    "\n",
    "    assert_equal(most_common_publisher,'Electronic Arts')\n",
    "    assert_equal(most_common_platform, 'DS')\n",
    "    assert_equal(most_common_genre, 'Action')\n",
    "    assert_equal(top_twenty_highest_grossing_games.iloc[0].Name,'Wii Sports')\n",
    "    assert_equal(top_twenty_highest_grossing_games.iloc[19].Name,'Brain Age: Train Your Brain in Minutes a Day')\n",
    "    assert_equal(North_American_median,0.08)\n",
    "    assert_equal(ten_median_na_seller_names,['Turok: Evolution', 'Deadpool', 'GT Advance 2: Rally Racing', \"A Witch's Tale\", 'Nickelodeon Dance', 'Phantasy Star Collection', \"LEGO Knights' Kingdom\", 'Family Game Night 4: The Game Show', 'NBA Jam 2002', \"Tony Hawk's Pro Skater 5\", \"Tom Clancy's Rainbow Six: Rogue Spear\"])\n",
    "\n",
    "    print(\"Success!!!\")\n",
    "\n",
    "test()"
   ]
  },
  {
   "cell_type": "code",
   "execution_count": null,
   "metadata": {},
   "outputs": [],
   "source": []
  }
 ]
}